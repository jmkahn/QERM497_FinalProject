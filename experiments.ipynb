{
 "cells": [
  {
   "cell_type": "code",
   "execution_count": 2,
   "metadata": {},
   "outputs": [
    {
     "name": "stdout",
     "output_type": "stream",
     "text": [
      "0\n"
     ]
    },
    {
     "name": "stderr",
     "output_type": "stream",
     "text": [
      "c:\\Users\\helen\\OneDrive\\Documents\\modeling_complex_systems\\QERM497_FinalProject\\simulation.py:162: RuntimeWarning: divide by zero encountered in true_divide\n",
      "  ignition_probability = max_ignite / forest[d:-d, d:-d]\n"
     ]
    },
    {
     "name": "stdout",
     "output_type": "stream",
     "text": [
      "1\n"
     ]
    },
    {
     "name": "stderr",
     "output_type": "stream",
     "text": [
      "c:\\Users\\helen\\anaconda3\\lib\\site-packages\\numpy\\lib\\polynomial.py:659: RuntimeWarning: invalid value encountered in true_divide\n",
      "  lhs /= scale\n"
     ]
    },
    {
     "name": "stdout",
     "output_type": "stream",
     "text": [
      "2\n",
      "3\n",
      "4\n",
      "5\n",
      "6\n",
      "7\n",
      "8\n",
      "9\n",
      "10\n",
      "11\n",
      "12\n",
      "13\n",
      "14\n",
      "15\n",
      "16\n",
      "17\n",
      "18\n",
      "19\n",
      "20\n",
      "21\n",
      "22\n",
      "23\n"
     ]
    },
    {
     "name": "stderr",
     "output_type": "stream",
     "text": [
      "c:\\Users\\helen\\anaconda3\\lib\\site-packages\\numpy\\core\\fromnumeric.py:3440: RuntimeWarning: Mean of empty slice.\n",
      "  return _methods._mean(a, axis=axis, dtype=dtype,\n",
      "c:\\Users\\helen\\anaconda3\\lib\\site-packages\\numpy\\core\\_methods.py:189: RuntimeWarning: invalid value encountered in double_scalars\n",
      "  ret = ret.dtype.type(ret / rcount)\n",
      "c:\\Users\\helen\\anaconda3\\lib\\site-packages\\numpy\\core\\_methods.py:262: RuntimeWarning: Degrees of freedom <= 0 for slice\n",
      "  ret = _var(a, axis=axis, dtype=dtype, out=out, ddof=ddof,\n",
      "c:\\Users\\helen\\anaconda3\\lib\\site-packages\\numpy\\core\\_methods.py:222: RuntimeWarning: invalid value encountered in true_divide\n",
      "  arrmean = um.true_divide(arrmean, div, out=arrmean, casting='unsafe',\n",
      "c:\\Users\\helen\\anaconda3\\lib\\site-packages\\numpy\\core\\_methods.py:254: RuntimeWarning: invalid value encountered in double_scalars\n",
      "  ret = ret.dtype.type(ret / rcount)\n"
     ]
    },
    {
     "name": "stdout",
     "output_type": "stream",
     "text": [
      "24\n",
      "25\n",
      "26\n",
      "27\n",
      "28\n",
      "29\n",
      "30\n",
      "31\n",
      "32\n",
      "33\n",
      "34\n",
      "35\n",
      "36\n",
      "37\n",
      "38\n",
      "39\n"
     ]
    }
   ],
   "source": [
    "import numpy as np\n",
    "from simulation import run_simulation\n",
    "# TEST final experiments \n",
    "# neighborhood cc\n",
    "\n",
    "# DEFAULT PARAMS\n",
    "m = 0.5 # placeholder, not used. \n",
    "L = 30\n",
    "time_steps = 200\n",
    "d = 4\n",
    "init_grass=0.2 \n",
    "init_tree=0.1\n",
    "p_disp=.05\n",
    "p_prop=0.1\n",
    "min_seed=2\n",
    "r_grow=0.8\n",
    "tree_carrying_capacity = 50\n",
    "neighborhood_carrying_capacity = 100\n",
    "max_ignite=0.01\n",
    "rand_seed = 1551\n",
    "\n",
    "num_reps = 2\n",
    "burnout_time = 100\n",
    "\n",
    "rng = np.random.default_rng(rand_seed)\n",
    "\n",
    "# Neighborhood CC \n",
    "# Run over a range of different ratios of tree_carrying_capacity/neighborhood_carrying_capacity\n",
    "# from 1/10 to 1 (1/10, 1/9, 1/8, etc)\n",
    "\n",
    "# set up data collection\n",
    "# will have a couple of summary stats for each iteration\n",
    "\n",
    "ratios = range(20)\n",
    "num_trials = len(ratios) * num_reps\n",
    "ratio = np.zeros(num_trials)\n",
    "mean_biomass = np.zeros(num_trials)\n",
    "median_biomass = np.zeros(num_trials)\n",
    "max_biomass = np.zeros(num_trials)\n",
    "min_biomass = np.zeros(num_trials)\n",
    "std_biomass = np.zeros(num_trials)\n",
    "mean_patch_count = np.zeros(num_trials)\n",
    "mean_mean_patch_size = np.zeros(num_trials)\n",
    "std_mean_patch_size = np.zeros(num_trials)\n",
    "ln_num_avg_patch_int = np.zeros(num_trials)\n",
    "ln_num_avg_patch_slope = np.zeros(num_trials)\n",
    "\n",
    "# keep track of trial number\n",
    "trial_counter = 0\n",
    "\n",
    "for r in ratios: \n",
    "    r = r + 1\n",
    "    n_cc = tree_carrying_capacity*r\n",
    "    for rep in range(num_reps):\n",
    "        print(trial_counter)\n",
    "        results_dict = run_simulation(m=m, \n",
    "                L=L, \n",
    "                t_steps=time_steps, \n",
    "                d=d, \n",
    "                init_grass=init_grass, \n",
    "                init_tree=init_tree, \n",
    "                p_disp=p_disp, \n",
    "                p_prop=p_prop, \n",
    "                min_seed=min_seed, \n",
    "                r_grow=r_grow, \n",
    "                tree_carrying_capacity=tree_carrying_capacity,\n",
    "                neighborhood_carrying_capacity=n_cc, \n",
    "                max_ignite=max_ignite,\n",
    "                rng=rng)\n",
    "\n",
    "        \n",
    "        ratio[trial_counter] = r\n",
    "        #### BIOMASS\n",
    "        # calculate summary stats for that trial and record them\n",
    "        biomass = results_dict['biomass'][burnout_time:]\n",
    "        # mean (total biomass / L*L)\n",
    "        mean_biomass[trial_counter] = np.mean(biomass/(L*L))\n",
    "        # median (total biomass / L*L)\n",
    "        median_biomass[trial_counter] = np.median(biomass/(L*L))\n",
    "        # std (total biomass / L*L)\n",
    "        std_biomass[trial_counter] = np.std(biomass/(L*L))\n",
    "        # \n",
    "        max_biomass[trial_counter] = np.max(biomass/(L*L))\n",
    "        min_biomass[trial_counter] = np.min(biomass/(L*L))\n",
    "        \n",
    "        #### PATCH SIZE\n",
    "        num_patches = results_dict['num_patches'][burnout_time:]\n",
    "        avg_patch_size = results_dict['avg_patch_size'][burnout_time:]\n",
    "        med_patch_size = results_dict['med_patch_size'][burnout_time:]\n",
    "        \n",
    "        # Get indices that are not nan so stuff doesn't break\n",
    "        finite_idx = ~np.isnan(avg_patch_size)\n",
    "        # mean (num patches)\n",
    "        mean_patch_count[trial_counter] = np.nanmean(num_patches)\n",
    "        # mean of the means\n",
    "        mean_mean_patch_size[trial_counter] = np.nanmean(avg_patch_size)\n",
    "        # sd of means\n",
    "        std_mean_patch_size[trial_counter] = np.nanstd(avg_patch_size)\n",
    "        # slope and int of mean patch size vs num patches\n",
    "\n",
    "        # try to get slope, intercept\n",
    "        # return nan if doesn't work \n",
    "        try: \n",
    "            slope, intercept = np.polyfit(np.log(num_patches[finite_idx]), np.log(avg_patch_size[finite_idx]), 1)\n",
    "            ln_num_avg_patch_int[trial_counter] = intercept\n",
    "            ln_num_avg_patch_slope[trial_counter] = slope\n",
    "        except: \n",
    "            ln_num_avg_patch_int[trial_counter] = np.nan\n",
    "            ln_num_avg_patch_slope[trial_counter] = np.nan\n",
    "\n",
    "        trial_counter += 1"
   ]
  },
  {
   "cell_type": "code",
   "execution_count": 4,
   "metadata": {},
   "outputs": [],
   "source": [
    "# Save it\n",
    "\n",
    "import pandas as pd\n",
    "df = pd.DataFrame({\n",
    "    \"ratio\": ratio, \n",
    "    \"mean_biomass\": mean_biomass, \n",
    "    \"median_biomass\": median_biomass, \n",
    "    \"max_biomass\": max_biomass, \n",
    "    \"min_biomass\": min_biomass, \n",
    "    \"std_biomass\": std_biomass, \n",
    "    \"mean_patch_count\": mean_patch_count, \n",
    "    \"mean_mean_patch_size\": mean_mean_patch_size, \n",
    "    \"std_mean_patch_size\": std_mean_patch_size, \n",
    "    \"ln_num_avg_patch_int\": ln_num_avg_patch_int, \n",
    "    \"ln_num_avg_patch_slope\": ln_num_avg_patch_slope\n",
    "})\n",
    "df.to_csv(\"outputs/neighborcc_test.csv\")"
   ]
  },
  {
   "attachments": {},
   "cell_type": "markdown",
   "metadata": {},
   "source": [
    "Make some plots. \n",
    "\n",
    "It looks like something interesting is happening around a ratio of 5. "
   ]
  },
  {
   "cell_type": "code",
   "execution_count": 3,
   "metadata": {},
   "outputs": [
    {
     "data": {
      "image/png": "[encoded data removed]",
      "text/plain": [
       "<Figure size 640x480 with 1 Axes>"
      ]
     },
     "metadata": {},
     "output_type": "display_data"
    }
   ],
   "source": [
    "import matplotlib.pyplot as plt\n",
    "\n",
    "# Biomass: min, max, and mean. \n",
    "plt.figure()\n",
    "plt.scatter(ratio, min_biomass, color = \"blue\", label = \"min\")\n",
    "plt.scatter(ratio, max_biomass, color = \"green\", label = \"max\")\n",
    "plt.scatter(ratio, mean_biomass, color = \"orange\", label = \"mean\")\n",
    "plt.legend()\n",
    "plt.xlabel(\"ratio\")\n",
    "plt.ylabel(\"mean biomass\")\n",
    "plt.show()\n",
    "\n",
    "# patch size: \n",
    "# count, mean (of mean), std (of mean), slope & intercept of count vs mean\n"
   ]
  },
  {
   "attachments": {},
   "cell_type": "markdown",
   "metadata": {},
   "source": [
    "# Growth rate"
   ]
  },
  {
   "cell_type": "code",
   "execution_count": 11,
   "metadata": {},
   "outputs": [
    {
     "data": {
      "text/plain": [
       "array([0.001     , 0.05357895, 0.10615789, 0.15873684, 0.21131579,\n",
       "       0.26389474, 0.31647368, 0.36905263, 0.42163158, 0.47421053,\n",
       "       0.52678947, 0.57936842, 0.63194737, 0.68452632, 0.73710526,\n",
       "       0.78968421, 0.84226316, 0.89484211, 0.94742105, 1.        ])"
      ]
     },
     "execution_count": 11,
     "metadata": {},
     "output_type": "execute_result"
    }
   ],
   "source": [
    "growth_rates = np.linspace(0.001, 1., 20)\n",
    "growth_rates"
   ]
  },
  {
   "cell_type": "code",
   "execution_count": 12,
   "metadata": {},
   "outputs": [
    {
     "name": "stdout",
     "output_type": "stream",
     "text": [
      "0\n"
     ]
    },
    {
     "name": "stderr",
     "output_type": "stream",
     "text": [
      "c:\\Users\\helen\\OneDrive\\Documents\\modeling_complex_systems\\QERM497_FinalProject\\simulation.py:162: RuntimeWarning: divide by zero encountered in true_divide\n",
      "  ignition_probability = max_ignite / forest[d:-d, d:-d]\n"
     ]
    },
    {
     "name": "stdout",
     "output_type": "stream",
     "text": [
      "1\n"
     ]
    },
    {
     "name": "stderr",
     "output_type": "stream",
     "text": [
      "c:\\Users\\helen\\anaconda3\\lib\\site-packages\\numpy\\lib\\polynomial.py:659: RuntimeWarning: invalid value encountered in true_divide\n",
      "  lhs /= scale\n"
     ]
    },
    {
     "name": "stdout",
     "output_type": "stream",
     "text": [
      "2\n",
      "3\n",
      "4\n",
      "5\n",
      "6\n",
      "7\n",
      "8\n",
      "9\n",
      "10\n",
      "11\n",
      "12\n",
      "13\n",
      "14\n",
      "15\n",
      "16\n",
      "17\n",
      "18\n",
      "19\n",
      "20\n",
      "21\n",
      "22\n",
      "23\n",
      "24\n",
      "25\n",
      "26\n",
      "27\n",
      "28\n",
      "29\n",
      "30\n",
      "31\n",
      "32\n",
      "33\n",
      "34\n",
      "35\n",
      "36\n",
      "37\n",
      "38\n",
      "39\n"
     ]
    }
   ],
   "source": [
    "\n",
    "# Choose one reasonable value of neighborhood CC ratio for all other experiments\n",
    "# Choose 5. \n",
    "neighborhood_carrying_capacity = tree_carrying_capacity*5\n",
    "\n",
    "# growth rate\n",
    "# run from 0.01 to 1 (intervals of 0.05)\n",
    "growth_rates = np.round(np.linspace(0.001, 1., 20),3)\n",
    "num_trials = len(growth_rates) * num_reps\n",
    "rate = np.zeros(num_trials)\n",
    "mean_biomass = np.zeros(num_trials)\n",
    "median_biomass = np.zeros(num_trials)\n",
    "max_biomass = np.zeros(num_trials)\n",
    "min_biomass = np.zeros(num_trials)\n",
    "std_biomass = np.zeros(num_trials)\n",
    "mean_patch_count = np.zeros(num_trials)\n",
    "mean_mean_patch_size = np.zeros(num_trials)\n",
    "std_mean_patch_size = np.zeros(num_trials)\n",
    "ln_num_avg_patch_int = np.zeros(num_trials)\n",
    "ln_num_avg_patch_slope = np.zeros(num_trials)\n",
    "\n",
    "# keep track of trial number\n",
    "trial_counter = 0\n",
    "\n",
    "for r in growth_rates: \n",
    "    for rep in range(num_reps):\n",
    "        print(trial_counter)\n",
    "        results_dict = run_simulation(m=m, \n",
    "                L=L, \n",
    "                t_steps=time_steps, \n",
    "                d=d, \n",
    "                init_grass=init_grass, \n",
    "                init_tree=init_tree, \n",
    "                p_disp=p_disp, \n",
    "                p_prop=p_prop, \n",
    "                min_seed=min_seed, \n",
    "                r_grow=r, \n",
    "                tree_carrying_capacity=tree_carrying_capacity,\n",
    "                neighborhood_carrying_capacity=neighborhood_carrying_capacity, \n",
    "                max_ignite=max_ignite,\n",
    "                rng=rng)\n",
    "\n",
    "        \n",
    "        rate[trial_counter] = r\n",
    "        #### BIOMASS\n",
    "        # calculate summary stats for that trial and record them\n",
    "        biomass = results_dict['biomass'][burnout_time:]\n",
    "        # mean (total biomass / L*L)\n",
    "        mean_biomass[trial_counter] = np.mean(biomass/(L*L))\n",
    "        # median (total biomass / L*L)\n",
    "        median_biomass[trial_counter] = np.median(biomass/(L*L))\n",
    "        # std (total biomass / L*L)\n",
    "        std_biomass[trial_counter] = np.std(biomass/(L*L))\n",
    "        # \n",
    "        max_biomass[trial_counter] = np.max(biomass/(L*L))\n",
    "        min_biomass[trial_counter] = np.min(biomass/(L*L))\n",
    "        \n",
    "        #### PATCH SIZE\n",
    "        num_patches = results_dict['num_patches'][burnout_time:]\n",
    "        avg_patch_size = results_dict['avg_patch_size'][burnout_time:]\n",
    "        med_patch_size = results_dict['med_patch_size'][burnout_time:]\n",
    "        \n",
    "        # Get indices that are not nan so stuff doesn't break\n",
    "        finite_idx = ~np.isnan(avg_patch_size)\n",
    "        # mean (num patches)\n",
    "        mean_patch_count[trial_counter] = np.nanmean(num_patches)\n",
    "        # mean of the means\n",
    "        mean_mean_patch_size[trial_counter] = np.nanmean(avg_patch_size)\n",
    "        # sd of means\n",
    "        std_mean_patch_size[trial_counter] = np.nanstd(avg_patch_size)\n",
    "        # slope and int of mean patch size vs num patches\n",
    "\n",
    "        # try to get slope, intercept\n",
    "        # return nan if doesn't work \n",
    "        try: \n",
    "            slope, intercept = np.polyfit(np.log(num_patches[finite_idx]), np.log(avg_patch_size[finite_idx]), 1)\n",
    "            ln_num_avg_patch_int[trial_counter] = intercept\n",
    "            ln_num_avg_patch_slope[trial_counter] = slope\n",
    "        except: \n",
    "            ln_num_avg_patch_int[trial_counter] = np.nan\n",
    "            ln_num_avg_patch_slope[trial_counter] = np.nan\n",
    "\n",
    "        trial_counter += 1"
   ]
  },
  {
   "cell_type": "code",
   "execution_count": 18,
   "metadata": {},
   "outputs": [],
   "source": [
    "rate = np.repeat(growth_rates, num_reps)"
   ]
  },
  {
   "cell_type": "code",
   "execution_count": 19,
   "metadata": {},
   "outputs": [],
   "source": [
    "df = pd.DataFrame({\n",
    "    \"growth_rate\": rate, \n",
    "    \"mean_biomass\": mean_biomass, \n",
    "    \"median_biomass\": median_biomass, \n",
    "    \"max_biomass\": max_biomass, \n",
    "    \"min_biomass\": min_biomass, \n",
    "    \"std_biomass\": std_biomass, \n",
    "    \"mean_patch_count\": mean_patch_count, \n",
    "    \"mean_mean_patch_size\": mean_mean_patch_size, \n",
    "    \"std_mean_patch_size\": std_mean_patch_size, \n",
    "    \"ln_num_avg_patch_int\": ln_num_avg_patch_int, \n",
    "    \"ln_num_avg_patch_slope\": ln_num_avg_patch_slope\n",
    "})\n",
    "df.to_csv(\"outputs/growthrate_test.csv\")"
   ]
  },
  {
   "cell_type": "code",
   "execution_count": 20,
   "metadata": {},
   "outputs": [
    {
     "data": {
      "image/png": "[encoded data removed]",
      "text/plain": [
       "<Figure size 640x480 with 1 Axes>"
      ]
     },
     "metadata": {},
     "output_type": "display_data"
    }
   ],
   "source": [
    "\n",
    "# Biomass: min, max, and mean. \n",
    "plt.figure()\n",
    "plt.scatter(rate, min_biomass, color = \"blue\", label = \"min\")\n",
    "plt.scatter(rate, max_biomass, color = \"green\", label = \"max\")\n",
    "plt.scatter(rate, mean_biomass, color = \"orange\", label = \"mean\")\n",
    "plt.legend()\n",
    "plt.xlabel(\"growth rate\")\n",
    "plt.ylabel(\"mean biomass\")\n",
    "plt.show()\n",
    "\n",
    "# patch size: \n",
    "# count, mean (of mean), std (of mean), slope & intercept of count vs mean\n",
    "plt.figure()\n",
    "plt.scatter(rate, min_biomass, color = \"blue\", label = \"min\")\n",
    "plt.scatter(rate, max_biomass, color = \"green\", label = \"max\")\n",
    "plt.scatter(rate, mean_biomass, color = \"orange\", label = \"mean\")\n",
    "plt.legend()\n",
    "plt.xlabel(\"growth rate\")\n",
    "plt.ylabel(\"mean biomass\")\n",
    "plt.show()"
   ]
  },
  {
   "cell_type": "code",
   "execution_count": null,
   "metadata": {},
   "outputs": [],
   "source": [
    "# Animation of low vs high growth rate"
   ]
  }
 ],
 "metadata": {
  "kernelspec": {
   "display_name": "base",
   "language": "python",
   "name": "python3"
  },
  "language_info": {
   "codemirror_mode": {
    "name": "ipython",
    "version": 3
   },
   "file_extension": ".py",
   "mimetype": "text/x-python",
   "name": "python",
   "nbconvert_exporter": "python",
   "pygments_lexer": "ipython3",
   "version": "3.9.13"
  },
  "orig_nbformat": 4,
  "vscode": {
   "interpreter": {
    "hash": "2f51a30a04df041680abb45233572118012320a8ffc7d125434bf1d85ca06873"
   }
  }
 },
 "nbformat": 4,
 "nbformat_minor": 2
}
