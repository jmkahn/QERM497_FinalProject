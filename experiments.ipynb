{
 "cells": [
  {
   "cell_type": "code",
   "execution_count": 2,
   "metadata": {},
   "outputs": [],
   "source": [
    "import numpy as np\n",
    "from simulation import run_simulation\n",
    "import matplotlib.pyplot as plt\n",
    "import pandas as pd\n",
    "# TEST final experiments \n",
    "# neighborhood cc\n",
    "\n",
    "# DEFAULT PARAMS\n",
    "m = 0.5 # placeholder, not used. \n",
    "L = 30\n",
    "time_steps = 200\n",
    "d = 4\n",
    "init_grass=0.2 \n",
    "init_tree=0.1\n",
    "p_disp=.05\n",
    "p_prop=0.1\n",
    "min_seed=2\n",
    "r_grow=0.8\n",
    "tree_carrying_capacity = 50\n",
    "neighborhood_carrying_capacity = tree_carrying_capacity*5\n",
    "max_ignite=0.01\n",
    "rand_seed = 1551\n",
    "\n",
    "num_reps = 2\n",
    "burnout_time = 100\n",
    "\n",
    "rng = np.random.default_rng(rand_seed)"
   ]
  },
  {
   "cell_type": "code",
   "execution_count": 2,
   "metadata": {},
   "outputs": [
    {
     "name": "stdout",
     "output_type": "stream",
     "text": [
      "0\n"
     ]
    },
    {
     "name": "stderr",
     "output_type": "stream",
     "text": [
      "c:\\Users\\helen\\OneDrive\\Documents\\modeling_complex_systems\\QERM497_FinalProject\\simulation.py:162: RuntimeWarning: divide by zero encountered in true_divide\n",
      "  ignition_probability = max_ignite / forest[d:-d, d:-d]\n"
     ]
    },
    {
     "name": "stdout",
     "output_type": "stream",
     "text": [
      "1\n"
     ]
    },
    {
     "name": "stderr",
     "output_type": "stream",
     "text": [
      "c:\\Users\\helen\\anaconda3\\lib\\site-packages\\numpy\\lib\\polynomial.py:659: RuntimeWarning: invalid value encountered in true_divide\n",
      "  lhs /= scale\n"
     ]
    },
    {
     "name": "stdout",
     "output_type": "stream",
     "text": [
      "2\n",
      "3\n",
      "4\n",
      "5\n",
      "6\n",
      "7\n",
      "8\n",
      "9\n",
      "10\n",
      "11\n",
      "12\n",
      "13\n",
      "14\n",
      "15\n",
      "16\n",
      "17\n",
      "18\n",
      "19\n",
      "20\n",
      "21\n",
      "22\n",
      "23\n"
     ]
    },
    {
     "name": "stderr",
     "output_type": "stream",
     "text": [
      "c:\\Users\\helen\\anaconda3\\lib\\site-packages\\numpy\\core\\fromnumeric.py:3440: RuntimeWarning: Mean of empty slice.\n",
      "  return _methods._mean(a, axis=axis, dtype=dtype,\n",
      "c:\\Users\\helen\\anaconda3\\lib\\site-packages\\numpy\\core\\_methods.py:189: RuntimeWarning: invalid value encountered in double_scalars\n",
      "  ret = ret.dtype.type(ret / rcount)\n",
      "c:\\Users\\helen\\anaconda3\\lib\\site-packages\\numpy\\core\\_methods.py:262: RuntimeWarning: Degrees of freedom <= 0 for slice\n",
      "  ret = _var(a, axis=axis, dtype=dtype, out=out, ddof=ddof,\n",
      "c:\\Users\\helen\\anaconda3\\lib\\site-packages\\numpy\\core\\_methods.py:222: RuntimeWarning: invalid value encountered in true_divide\n",
      "  arrmean = um.true_divide(arrmean, div, out=arrmean, casting='unsafe',\n",
      "c:\\Users\\helen\\anaconda3\\lib\\site-packages\\numpy\\core\\_methods.py:254: RuntimeWarning: invalid value encountered in double_scalars\n",
      "  ret = ret.dtype.type(ret / rcount)\n"
     ]
    },
    {
     "name": "stdout",
     "output_type": "stream",
     "text": [
      "24\n",
      "25\n",
      "26\n",
      "27\n",
      "28\n",
      "29\n",
      "30\n",
      "31\n",
      "32\n",
      "33\n",
      "34\n",
      "35\n",
      "36\n",
      "37\n",
      "38\n",
      "39\n"
     ]
    }
   ],
   "source": [
    "\n",
    "\n",
    "# Neighborhood CC \n",
    "# Run over a range of different ratios of tree_carrying_capacity/neighborhood_carrying_capacity\n",
    "# from 1/10 to 1 (1/10, 1/9, 1/8, etc)\n",
    "\n",
    "# set up data collection\n",
    "# will have a couple of summary stats for each iteration\n",
    "\n",
    "ratios = range(20)\n",
    "num_trials = len(ratios) * num_reps\n",
    "ratio = np.zeros(num_trials)\n",
    "mean_biomass = np.zeros(num_trials)\n",
    "median_biomass = np.zeros(num_trials)\n",
    "max_biomass = np.zeros(num_trials)\n",
    "min_biomass = np.zeros(num_trials)\n",
    "std_biomass = np.zeros(num_trials)\n",
    "mean_patch_count = np.zeros(num_trials)\n",
    "mean_mean_patch_size = np.zeros(num_trials)\n",
    "std_mean_patch_size = np.zeros(num_trials)\n",
    "ln_num_avg_patch_int = np.zeros(num_trials)\n",
    "ln_num_avg_patch_slope = np.zeros(num_trials)\n",
    "\n",
    "# keep track of trial number\n",
    "trial_counter = 0\n",
    "\n",
    "for r in ratios: \n",
    "    r = r + 1\n",
    "    n_cc = tree_carrying_capacity*r\n",
    "    for rep in range(num_reps):\n",
    "        print(trial_counter)\n",
    "        results_dict = run_simulation(m=m, \n",
    "                L=L, \n",
    "                t_steps=time_steps, \n",
    "                d=d, \n",
    "                init_grass=init_grass, \n",
    "                init_tree=init_tree, \n",
    "                p_disp=p_disp, \n",
    "                p_prop=p_prop, \n",
    "                min_seed=min_seed, \n",
    "                r_grow=r_grow, \n",
    "                tree_carrying_capacity=tree_carrying_capacity,\n",
    "                neighborhood_carrying_capacity=n_cc, \n",
    "                max_ignite=max_ignite,\n",
    "                rng=rng)\n",
    "\n",
    "        \n",
    "        ratio[trial_counter] = r\n",
    "        #### BIOMASS\n",
    "        # calculate summary stats for that trial and record them\n",
    "        biomass = results_dict['biomass'][burnout_time:]\n",
    "        # mean (total biomass / L*L)\n",
    "        mean_biomass[trial_counter] = np.mean(biomass/(L*L))\n",
    "        # median (total biomass / L*L)\n",
    "        median_biomass[trial_counter] = np.median(biomass/(L*L))\n",
    "        # std (total biomass / L*L)\n",
    "        std_biomass[trial_counter] = np.std(biomass/(L*L))\n",
    "        # \n",
    "        max_biomass[trial_counter] = np.max(biomass/(L*L))\n",
    "        min_biomass[trial_counter] = np.min(biomass/(L*L))\n",
    "        \n",
    "        #### PATCH SIZE\n",
    "        num_patches = results_dict['num_patches'][burnout_time:]\n",
    "        avg_patch_size = results_dict['avg_patch_size'][burnout_time:]\n",
    "        med_patch_size = results_dict['med_patch_size'][burnout_time:]\n",
    "        \n",
    "        # Get indices that are not nan so stuff doesn't break\n",
    "        finite_idx = ~np.isnan(avg_patch_size)\n",
    "        # mean (num patches)\n",
    "        mean_patch_count[trial_counter] = np.nanmean(num_patches)\n",
    "        # mean of the means\n",
    "        mean_mean_patch_size[trial_counter] = np.nanmean(avg_patch_size)\n",
    "        # sd of means\n",
    "        std_mean_patch_size[trial_counter] = np.nanstd(avg_patch_size)\n",
    "        # slope and int of mean patch size vs num patches\n",
    "\n",
    "        # try to get slope, intercept\n",
    "        # return nan if doesn't work \n",
    "        try: \n",
    "            slope, intercept = np.polyfit(np.log(num_patches[finite_idx]), np.log(avg_patch_size[finite_idx]), 1)\n",
    "            ln_num_avg_patch_int[trial_counter] = intercept\n",
    "            ln_num_avg_patch_slope[trial_counter] = slope\n",
    "        except: \n",
    "            ln_num_avg_patch_int[trial_counter] = np.nan\n",
    "            ln_num_avg_patch_slope[trial_counter] = np.nan\n",
    "\n",
    "        trial_counter += 1"
   ]
  },
  {
   "cell_type": "code",
   "execution_count": 4,
   "metadata": {},
   "outputs": [],
   "source": [
    "# Save it\n",
    "\n",
    "\n",
    "df = pd.DataFrame({\n",
    "    \"ratio\": ratio, \n",
    "    \"mean_biomass\": mean_biomass, \n",
    "    \"median_biomass\": median_biomass, \n",
    "    \"max_biomass\": max_biomass, \n",
    "    \"min_biomass\": min_biomass, \n",
    "    \"std_biomass\": std_biomass, \n",
    "    \"mean_patch_count\": mean_patch_count, \n",
    "    \"mean_mean_patch_size\": mean_mean_patch_size, \n",
    "    \"std_mean_patch_size\": std_mean_patch_size, \n",
    "    \"ln_num_avg_patch_int\": ln_num_avg_patch_int, \n",
    "    \"ln_num_avg_patch_slope\": ln_num_avg_patch_slope\n",
    "})\n",
    "df.to_csv(\"outputs/neighborcc_test.csv\")"
   ]
  },
  {
   "attachments": {},
   "cell_type": "markdown",
   "metadata": {},
   "source": [
    "Make some plots. \n",
    "\n",
    "It looks like something interesting is happening around a ratio of 5. "
   ]
  },
  {
   "cell_type": "code",
   "execution_count": 3,
   "metadata": {},
   "outputs": [
    {
     "data": {
      "image/png": "[encoded data removed]",
      "text/plain": [
       "<Figure size 640x480 with 1 Axes>"
      ]
     },
     "metadata": {},
     "output_type": "display_data"
    }
   ],
   "source": [
    "\n",
    "\n",
    "# Biomass: min, max, and mean. \n",
    "plt.figure()\n",
    "plt.scatter(ratio, min_biomass, color = \"blue\", label = \"min\")\n",
    "plt.scatter(ratio, max_biomass, color = \"green\", label = \"max\")\n",
    "plt.scatter(ratio, mean_biomass, color = \"orange\", label = \"mean\")\n",
    "plt.legend()\n",
    "plt.xlabel(\"ratio\")\n",
    "plt.ylabel(\"mean biomass\")\n",
    "plt.show()\n",
    "\n",
    "# patch size: \n",
    "# count, mean (of mean), std (of mean), slope & intercept of count vs mean\n"
   ]
  },
  {
   "attachments": {},
   "cell_type": "markdown",
   "metadata": {},
   "source": [
    "# Growth rate"
   ]
  },
  {
   "cell_type": "code",
   "execution_count": 11,
   "metadata": {},
   "outputs": [
    {
     "data": {
      "text/plain": [
       "array([0.001     , 0.05357895, 0.10615789, 0.15873684, 0.21131579,\n",
       "       0.26389474, 0.31647368, 0.36905263, 0.42163158, 0.47421053,\n",
       "       0.52678947, 0.57936842, 0.63194737, 0.68452632, 0.73710526,\n",
       "       0.78968421, 0.84226316, 0.89484211, 0.94742105, 1.        ])"
      ]
     },
     "execution_count": 11,
     "metadata": {},
     "output_type": "execute_result"
    }
   ],
   "source": [
    "growth_rates = np.linspace(0.001, 1., 20)\n",
    "growth_rates"
   ]
  },
  {
   "cell_type": "code",
   "execution_count": 12,
   "metadata": {},
   "outputs": [
    {
     "name": "stdout",
     "output_type": "stream",
     "text": [
      "0\n"
     ]
    },
    {
     "name": "stderr",
     "output_type": "stream",
     "text": [
      "c:\\Users\\helen\\OneDrive\\Documents\\modeling_complex_systems\\QERM497_FinalProject\\simulation.py:162: RuntimeWarning: divide by zero encountered in true_divide\n",
      "  ignition_probability = max_ignite / forest[d:-d, d:-d]\n"
     ]
    },
    {
     "name": "stdout",
     "output_type": "stream",
     "text": [
      "1\n"
     ]
    },
    {
     "name": "stderr",
     "output_type": "stream",
     "text": [
      "c:\\Users\\helen\\anaconda3\\lib\\site-packages\\numpy\\lib\\polynomial.py:659: RuntimeWarning: invalid value encountered in true_divide\n",
      "  lhs /= scale\n"
     ]
    },
    {
     "name": "stdout",
     "output_type": "stream",
     "text": [
      "2\n",
      "3\n",
      "4\n",
      "5\n",
      "6\n",
      "7\n",
      "8\n",
      "9\n",
      "10\n",
      "11\n",
      "12\n",
      "13\n",
      "14\n",
      "15\n",
      "16\n",
      "17\n",
      "18\n",
      "19\n",
      "20\n",
      "21\n",
      "22\n",
      "23\n",
      "24\n",
      "25\n",
      "26\n",
      "27\n",
      "28\n",
      "29\n",
      "30\n",
      "31\n",
      "32\n",
      "33\n",
      "34\n",
      "35\n",
      "36\n",
      "37\n",
      "38\n",
      "39\n"
     ]
    }
   ],
   "source": [
    "\n",
    "# Choose one reasonable value of neighborhood CC ratio for all other experiments\n",
    "# Choose 5. \n",
    "neighborhood_carrying_capacity = tree_carrying_capacity*5\n",
    "\n",
    "# growth rate\n",
    "# run from 0.01 to 1 (intervals of 0.05)\n",
    "growth_rates = np.round(np.linspace(0.001, 1., 20),3)\n",
    "num_trials = len(growth_rates) * num_reps\n",
    "rate = np.zeros(num_trials)\n",
    "mean_biomass = np.zeros(num_trials)\n",
    "median_biomass = np.zeros(num_trials)\n",
    "max_biomass = np.zeros(num_trials)\n",
    "min_biomass = np.zeros(num_trials)\n",
    "std_biomass = np.zeros(num_trials)\n",
    "mean_patch_count = np.zeros(num_trials)\n",
    "mean_mean_patch_size = np.zeros(num_trials)\n",
    "std_mean_patch_size = np.zeros(num_trials)\n",
    "ln_num_avg_patch_int = np.zeros(num_trials)\n",
    "ln_num_avg_patch_slope = np.zeros(num_trials)\n",
    "\n",
    "# keep track of trial number\n",
    "trial_counter = 0\n",
    "\n",
    "for r in growth_rates: \n",
    "    for rep in range(num_reps):\n",
    "        print(trial_counter)\n",
    "        results_dict = run_simulation(m=m, \n",
    "                L=L, \n",
    "                t_steps=time_steps, \n",
    "                d=d, \n",
    "                init_grass=init_grass, \n",
    "                init_tree=init_tree, \n",
    "                p_disp=p_disp, \n",
    "                p_prop=p_prop, \n",
    "                min_seed=min_seed, \n",
    "                r_grow=r, \n",
    "                tree_carrying_capacity=tree_carrying_capacity,\n",
    "                neighborhood_carrying_capacity=neighborhood_carrying_capacity, \n",
    "                max_ignite=max_ignite,\n",
    "                rng=rng)\n",
    "\n",
    "        \n",
    "        rate[trial_counter] = r\n",
    "        #### BIOMASS\n",
    "        # calculate summary stats for that trial and record them\n",
    "        biomass = results_dict['biomass'][burnout_time:]\n",
    "        # mean (total biomass / L*L)\n",
    "        mean_biomass[trial_counter] = np.mean(biomass/(L*L))\n",
    "        # median (total biomass / L*L)\n",
    "        median_biomass[trial_counter] = np.median(biomass/(L*L))\n",
    "        # std (total biomass / L*L)\n",
    "        std_biomass[trial_counter] = np.std(biomass/(L*L))\n",
    "        # \n",
    "        max_biomass[trial_counter] = np.max(biomass/(L*L))\n",
    "        min_biomass[trial_counter] = np.min(biomass/(L*L))\n",
    "        \n",
    "        #### PATCH SIZE\n",
    "        num_patches = results_dict['num_patches'][burnout_time:]\n",
    "        avg_patch_size = results_dict['avg_patch_size'][burnout_time:]\n",
    "        med_patch_size = results_dict['med_patch_size'][burnout_time:]\n",
    "        \n",
    "        # Get indices that are not nan so stuff doesn't break\n",
    "        finite_idx = ~np.isnan(avg_patch_size)\n",
    "        # mean (num patches)\n",
    "        mean_patch_count[trial_counter] = np.nanmean(num_patches)\n",
    "        # mean of the means\n",
    "        mean_mean_patch_size[trial_counter] = np.nanmean(avg_patch_size)\n",
    "        # sd of means\n",
    "        std_mean_patch_size[trial_counter] = np.nanstd(avg_patch_size)\n",
    "        # slope and int of mean patch size vs num patches\n",
    "\n",
    "        # try to get slope, intercept\n",
    "        # return nan if doesn't work \n",
    "        try: \n",
    "            slope, intercept = np.polyfit(np.log(num_patches[finite_idx]), np.log(avg_patch_size[finite_idx]), 1)\n",
    "            ln_num_avg_patch_int[trial_counter] = intercept\n",
    "            ln_num_avg_patch_slope[trial_counter] = slope\n",
    "        except: \n",
    "            ln_num_avg_patch_int[trial_counter] = np.nan\n",
    "            ln_num_avg_patch_slope[trial_counter] = np.nan\n",
    "\n",
    "        trial_counter += 1"
   ]
  },
  {
   "cell_type": "code",
   "execution_count": 18,
   "metadata": {},
   "outputs": [],
   "source": [
    "rate = np.repeat(growth_rates, num_reps)"
   ]
  },
  {
   "cell_type": "code",
   "execution_count": 19,
   "metadata": {},
   "outputs": [],
   "source": [
    "df = pd.DataFrame({\n",
    "    \"growth_rate\": rate, \n",
    "    \"mean_biomass\": mean_biomass, \n",
    "    \"median_biomass\": median_biomass, \n",
    "    \"max_biomass\": max_biomass, \n",
    "    \"min_biomass\": min_biomass, \n",
    "    \"std_biomass\": std_biomass, \n",
    "    \"mean_patch_count\": mean_patch_count, \n",
    "    \"mean_mean_patch_size\": mean_mean_patch_size, \n",
    "    \"std_mean_patch_size\": std_mean_patch_size, \n",
    "    \"ln_num_avg_patch_int\": ln_num_avg_patch_int, \n",
    "    \"ln_num_avg_patch_slope\": ln_num_avg_patch_slope\n",
    "})\n",
    "df.to_csv(\"outputs/growthrate_test.csv\")"
   ]
  },
  {
   "cell_type": "code",
   "execution_count": 20,
   "metadata": {},
   "outputs": [
    {
     "data": {
      "image/png": "[encoded data removed]",
      "text/plain": [
       "<Figure size 640x480 with 1 Axes>"
      ]
     },
     "metadata": {},
     "output_type": "display_data"
    }
   ],
   "source": [
    "\n",
    "# Biomass: min, max, and mean. \n",
    "plt.figure()\n",
    "plt.scatter(rate, min_biomass, color = \"blue\", label = \"min\")\n",
    "plt.scatter(rate, max_biomass, color = \"green\", label = \"max\")\n",
    "plt.scatter(rate, mean_biomass, color = \"orange\", label = \"mean\")\n",
    "plt.legend()\n",
    "plt.xlabel(\"growth rate\")\n",
    "plt.ylabel(\"mean biomass\")\n",
    "plt.show()\n",
    "\n",
    "# patch size: \n",
    "# count, mean (of mean), std (of mean), slope & intercept of count vs mean\n",
    "plt.figure()\n",
    "plt.scatter(rate, min_biomass, color = \"blue\", label = \"min\")\n",
    "plt.scatter(rate, max_biomass, color = \"green\", label = \"max\")\n",
    "plt.scatter(rate, mean_biomass, color = \"orange\", label = \"mean\")\n",
    "plt.legend()\n",
    "plt.xlabel(\"growth rate\")\n",
    "plt.ylabel(\"mean biomass\")\n",
    "plt.show()"
   ]
  },
  {
   "cell_type": "code",
   "execution_count": null,
   "metadata": {},
   "outputs": [],
   "source": [
    "# Animation of low vs high growth rate\n",
    "\n",
    "# LOW Growth rate\n",
    "import matplotlib.colors as colors\n",
    "from simulation import initialize_forest, initialize_params_dict, grow_season, fire_season\n",
    "#from viz import theme_colors\n",
    "import matplotlib.animation as animation\n",
    "from matplotlib.ticker import ScalarFormatter\n",
    "import ipympl\n",
    "%matplotlib ipympl\n",
    "\n",
    "theme_colors = {\n",
    "    \"green\": \"#017f66\"\n",
    "}\n",
    "\n",
    "params_dict = initialize_params_dict(m=m, \n",
    "                                        L=L, \n",
    "                                        t_steps=time_steps, \n",
    "                                        d=d, \n",
    "                                        init_grass=init_grass, \n",
    "                                        init_tree=init_tree, \n",
    "                                        p_disp=p_disp, \n",
    "                                p_prop=p_prop,\n",
    "                                min_seed=min_seed,\n",
    "                                r_grow=0.01, \n",
    "                                tree_carrying_capacity=tree_carrying_capacity,\n",
    "                                neighborhood_carrying_capacity=neighborhood_carrying_capacity, \n",
    "                                max_ignite=max_ignite, \n",
    "                                rng=rng)\n",
    "\n",
    "\n",
    "# First set up the figure, the axis, and the plot element we want to animate\n",
    "fig, ax = plt.subplots(nrows=1, ncols=2, figsize=(8, 4), layout=\"constrained\")\n",
    "\n",
    "\n",
    "forest = initialize_forest(L=L, \n",
    "                            d=d, \n",
    "                            init_grass=init_grass, \n",
    "                            init_tree=init_tree, \n",
    "                            rng=rng)\n",
    "formatter = ScalarFormatter()\n",
    "formatter.set_scientific(True)\n",
    "\n",
    "im = ax[0].imshow(forest, vmin=1, vmax=tree_carrying_capacity*1.2, alpha=(forest > 0).astype(float))\n",
    "im.set_cmap('summer_r')\n",
    "ax[1].set_title(\"Biomass\")\n",
    "ax[1].set_xlabel(\"timestep\")\n",
    "ax[1].get_yaxis().set_major_formatter(formatter)\n",
    "ax[0].set_title(\"Forest\")\n",
    "ax[0].xaxis.set_visible(False)\n",
    "ax[0].yaxis.set_visible(False)\n",
    "t,biomass = [],[]\n",
    "\n",
    "counter = 0\n",
    "\n",
    "def animate_func(i):\n",
    "    global forest, counter\n",
    "\n",
    "    forest = grow_season(forest, params_dict) \n",
    "    forest, area_burned, indices_burned = fire_season(forest, params_dict)\n",
    "\n",
    "    t.append(i)\n",
    "    biomass.append(np.sum(forest))\n",
    "    ax[1].plot(t, biomass, color = theme_colors['green']) \n",
    "\n",
    "    im.set_array(forest)\n",
    "    im.set_alpha((forest > 0).astype(float))\n",
    "\n",
    "    counter =+ 1\n",
    "    return [ax]\n",
    "\n",
    "anim = animation.FuncAnimation(\n",
    "                            fig, \n",
    "                            animate_func, \n",
    "                            frames = 100000,\n",
    "                            interval = 50, # in ms\n",
    ")"
   ]
  },
  {
   "cell_type": "code",
   "execution_count": 6,
   "metadata": {},
   "outputs": [
    {
     "name": "stdout",
     "output_type": "stream",
     "text": [
      "0\n"
     ]
    },
    {
     "name": "stderr",
     "output_type": "stream",
     "text": [
      "c:\\Users\\helen\\OneDrive\\Documents\\modeling_complex_systems\\QERM497_FinalProject\\simulation.py:162: RuntimeWarning: divide by zero encountered in true_divide\n",
      "  ignition_probability = max_ignite / forest[d:-d, d:-d]\n"
     ]
    },
    {
     "name": "stdout",
     "output_type": "stream",
     "text": [
      "1\n",
      "2\n",
      "3\n",
      "4\n",
      "5\n",
      "6\n",
      "7\n",
      "8\n",
      "9\n",
      "10\n",
      "11\n",
      "12\n",
      "13\n",
      "14\n",
      "15\n",
      "16\n",
      "17\n",
      "18\n",
      "19\n",
      "20\n",
      "21\n",
      "22\n",
      "23\n",
      "24\n",
      "25\n"
     ]
    },
    {
     "name": "stderr",
     "output_type": "stream",
     "text": [
      "c:\\Users\\helen\\anaconda3\\lib\\site-packages\\numpy\\lib\\polynomial.py:659: RuntimeWarning: invalid value encountered in true_divide\n",
      "  lhs /= scale\n"
     ]
    },
    {
     "name": "stdout",
     "output_type": "stream",
     "text": [
      "26\n",
      "27\n",
      "28\n",
      "29\n",
      "30\n",
      "31\n",
      "32\n",
      "33\n",
      "34\n",
      "35\n",
      "36\n",
      "37\n",
      "38\n",
      "39\n"
     ]
    }
   ],
   "source": [
    "\n",
    "# TREE carrying capacity\n",
    "\n",
    "tree_carrying_capacity = np.linspace(50,1000, 20)\n",
    "num_trials = len(tree_carrying_capacity) * num_reps\n",
    "\n",
    "carrying_capacity = np.zeros(num_trials)\n",
    "mean_biomass = np.zeros(num_trials)\n",
    "median_biomass = np.zeros(num_trials)\n",
    "max_biomass = np.zeros(num_trials)\n",
    "min_biomass = np.zeros(num_trials)\n",
    "std_biomass = np.zeros(num_trials)\n",
    "mean_patch_count = np.zeros(num_trials)\n",
    "mean_mean_patch_size = np.zeros(num_trials)\n",
    "std_mean_patch_size = np.zeros(num_trials)\n",
    "ln_num_avg_patch_int = np.zeros(num_trials)\n",
    "ln_num_avg_patch_slope = np.zeros(num_trials)\n",
    "\n",
    "# keep track of trial number\n",
    "trial_counter = 0\n",
    "\n",
    "for cc in tree_carrying_capacity: \n",
    "    n_cc = cc*5\n",
    "    for rep in range(num_reps):\n",
    "        print(trial_counter)\n",
    "        results_dict = run_simulation(m=m, \n",
    "                L=L, \n",
    "                t_steps=time_steps, \n",
    "                d=d, \n",
    "                init_grass=init_grass, \n",
    "                init_tree=init_tree, \n",
    "                p_disp=p_disp, \n",
    "                p_prop=p_prop, \n",
    "                min_seed=min_seed, \n",
    "                r_grow=r_grow, \n",
    "                tree_carrying_capacity=cc,\n",
    "                neighborhood_carrying_capacity=n_cc, \n",
    "                max_ignite=max_ignite,\n",
    "                rng=rng)\n",
    "\n",
    "        \n",
    "        carrying_capacity[trial_counter] = cc\n",
    "        #### BIOMASS\n",
    "        # calculate summary stats for that trial and record them\n",
    "        biomass = results_dict['biomass'][burnout_time:]\n",
    "        # mean (total biomass / L*L)\n",
    "        mean_biomass[trial_counter] = np.mean(biomass/(L*L))\n",
    "        # median (total biomass / L*L)\n",
    "        median_biomass[trial_counter] = np.median(biomass/(L*L))\n",
    "        # std (total biomass / L*L)\n",
    "        std_biomass[trial_counter] = np.std(biomass/(L*L))\n",
    "        # \n",
    "        max_biomass[trial_counter] = np.max(biomass/(L*L))\n",
    "        min_biomass[trial_counter] = np.min(biomass/(L*L))\n",
    "        \n",
    "        #### PATCH SIZE\n",
    "        num_patches = results_dict['num_patches'][burnout_time:]\n",
    "        avg_patch_size = results_dict['avg_patch_size'][burnout_time:]\n",
    "        med_patch_size = results_dict['med_patch_size'][burnout_time:]\n",
    "        \n",
    "        # Get indices that are not nan so stuff doesn't break\n",
    "        finite_idx = ~np.isnan(avg_patch_size)\n",
    "        # mean (num patches)\n",
    "        mean_patch_count[trial_counter] = np.nanmean(num_patches)\n",
    "        # mean of the means\n",
    "        mean_mean_patch_size[trial_counter] = np.nanmean(avg_patch_size)\n",
    "        # sd of means\n",
    "        std_mean_patch_size[trial_counter] = np.nanstd(avg_patch_size)\n",
    "        # slope and int of mean patch size vs num patches\n",
    "\n",
    "        # try to get slope, intercept\n",
    "        # return nan if doesn't work \n",
    "        try: \n",
    "            slope, intercept = np.polyfit(np.log(num_patches[finite_idx]), np.log(avg_patch_size[finite_idx]), 1)\n",
    "            ln_num_avg_patch_int[trial_counter] = intercept\n",
    "            ln_num_avg_patch_slope[trial_counter] = slope\n",
    "        except: \n",
    "            ln_num_avg_patch_int[trial_counter] = np.nan\n",
    "            ln_num_avg_patch_slope[trial_counter] = np.nan\n",
    "\n",
    "        trial_counter += 1\n"
   ]
  },
  {
   "cell_type": "code",
   "execution_count": 7,
   "metadata": {},
   "outputs": [],
   "source": [
    "df = pd.DataFrame({\n",
    "    \"carring_capacity\": carrying_capacity, \n",
    "    \"mean_biomass\": mean_biomass, \n",
    "    \"median_biomass\": median_biomass, \n",
    "    \"max_biomass\": max_biomass, \n",
    "    \"min_biomass\": min_biomass, \n",
    "    \"std_biomass\": std_biomass, \n",
    "    \"mean_patch_count\": mean_patch_count, \n",
    "    \"mean_mean_patch_size\": mean_mean_patch_size, \n",
    "    \"std_mean_patch_size\": std_mean_patch_size, \n",
    "    \"ln_num_avg_patch_int\": ln_num_avg_patch_int, \n",
    "    \"ln_num_avg_patch_slope\": ln_num_avg_patch_slope\n",
    "})\n",
    "df.to_csv(\"outputs/carrying_capacity_test.csv\")"
   ]
  },
  {
   "cell_type": "code",
   "execution_count": 10,
   "metadata": {},
   "outputs": [
    {
     "data": {
      "image/png": "[encoded data removed]",
      "text/plain": [
       "<Figure size 640x480 with 1 Axes>"
      ]
     },
     "metadata": {},
     "output_type": "display_data"
    }
   ],
   "source": [
    "# Biomass: min, max, and mean. \n",
    "plt.figure()\n",
    "plt.scatter(carrying_capacity, min_biomass, color = \"blue\", label = \"min\")\n",
    "plt.scatter(carrying_capacity, max_biomass, color = \"green\", label = \"max\")\n",
    "plt.scatter(carrying_capacity, mean_biomass, color = \"orange\", label = \"mean\")\n",
    "plt.legend()\n",
    "plt.xlabel(\"carrying capacity\")\n",
    "plt.ylabel(\"mean biomass\")\n",
    "plt.show()"
   ]
  },
  {
   "cell_type": "code",
   "execution_count": 11,
   "metadata": {},
   "outputs": [
    {
     "data": {
      "text/plain": [
       "array([1.00000e-06, 2.00000e-06, 4.00000e-06, 8.00000e-06, 1.60000e-05,\n",
       "       3.20000e-05, 6.40000e-05, 1.28000e-04, 2.56000e-04, 5.12000e-04,\n",
       "       1.02400e-03, 2.04800e-03, 4.09600e-03, 8.19200e-03, 1.63840e-02,\n",
       "       3.27680e-02, 6.55360e-02, 1.31072e-01, 2.62144e-01, 5.24288e-01])"
      ]
     },
     "execution_count": 11,
     "metadata": {},
     "output_type": "execute_result"
    }
   ],
   "source": [
    "0.000001*2**np.arange(20)"
   ]
  },
  {
   "cell_type": "code",
   "execution_count": 14,
   "metadata": {},
   "outputs": [
    {
     "data": {
      "text/plain": [
       "2"
      ]
     },
     "execution_count": 14,
     "metadata": {},
     "output_type": "execute_result"
    }
   ],
   "source": [
    "num_reps"
   ]
  },
  {
   "cell_type": "code",
   "execution_count": 24,
   "metadata": {},
   "outputs": [
    {
     "name": "stdout",
     "output_type": "stream",
     "text": [
      "0\n"
     ]
    },
    {
     "name": "stderr",
     "output_type": "stream",
     "text": [
      "c:\\Users\\helen\\OneDrive\\Documents\\modeling_complex_systems\\QERM497_FinalProject\\simulation.py:162: RuntimeWarning: divide by zero encountered in true_divide\n",
      "  ignition_probability = max_ignite / forest[d:-d, d:-d]\n",
      "c:\\Users\\helen\\anaconda3\\lib\\site-packages\\numpy\\lib\\polynomial.py:659: RuntimeWarning: invalid value encountered in true_divide\n",
      "  lhs /= scale\n"
     ]
    },
    {
     "name": "stdout",
     "output_type": "stream",
     "text": [
      "1\n",
      "2\n",
      "3\n",
      "4\n",
      "5\n",
      "6\n",
      "7\n",
      "8\n",
      "9\n",
      "10\n",
      "11\n",
      "12\n",
      "13\n",
      "14\n",
      "15\n",
      "16\n",
      "17\n",
      "18\n"
     ]
    },
    {
     "name": "stderr",
     "output_type": "stream",
     "text": [
      "c:\\Users\\helen\\anaconda3\\lib\\site-packages\\numpy\\core\\fromnumeric.py:3440: RuntimeWarning: Mean of empty slice.\n",
      "  return _methods._mean(a, axis=axis, dtype=dtype,\n",
      "c:\\Users\\helen\\anaconda3\\lib\\site-packages\\numpy\\core\\_methods.py:189: RuntimeWarning: invalid value encountered in double_scalars\n",
      "  ret = ret.dtype.type(ret / rcount)\n",
      "c:\\Users\\helen\\anaconda3\\lib\\site-packages\\numpy\\core\\_methods.py:262: RuntimeWarning: Degrees of freedom <= 0 for slice\n",
      "  ret = _var(a, axis=axis, dtype=dtype, out=out, ddof=ddof,\n",
      "c:\\Users\\helen\\anaconda3\\lib\\site-packages\\numpy\\core\\_methods.py:222: RuntimeWarning: invalid value encountered in true_divide\n",
      "  arrmean = um.true_divide(arrmean, div, out=arrmean, casting='unsafe',\n",
      "c:\\Users\\helen\\anaconda3\\lib\\site-packages\\numpy\\core\\_methods.py:254: RuntimeWarning: invalid value encountered in double_scalars\n",
      "  ret = ret.dtype.type(ret / rcount)\n"
     ]
    },
    {
     "name": "stdout",
     "output_type": "stream",
     "text": [
      "19\n"
     ]
    }
   ],
   "source": [
    "# ignition probability\n",
    "# run from 0.000001 to 0.1 (double for each iteration)\n",
    "\n",
    "probabilities = np.linspace(0, 1, 10)\n",
    "neighborhood_carrying_capacity = 5*50\n",
    "tree_carrying_capacity = 50\n",
    "num_trials = len(probabilities) * num_reps\n",
    "\n",
    "ignition_probability = np.zeros(num_trials)\n",
    "mean_biomass = np.zeros(num_trials)\n",
    "median_biomass = np.zeros(num_trials)\n",
    "max_biomass = np.zeros(num_trials)\n",
    "min_biomass = np.zeros(num_trials)\n",
    "std_biomass = np.zeros(num_trials)\n",
    "mean_patch_count = np.zeros(num_trials)\n",
    "mean_mean_patch_size = np.zeros(num_trials)\n",
    "std_mean_patch_size = np.zeros(num_trials)\n",
    "ln_num_avg_patch_int = np.zeros(num_trials)\n",
    "ln_num_avg_patch_slope = np.zeros(num_trials)\n",
    "\n",
    "# keep track of trial number\n",
    "trial_counter = 0\n",
    "\n",
    "for p in probabilities: \n",
    "    for rep in range(num_reps):\n",
    "        print(trial_counter)\n",
    "        results_dict = run_simulation(m=m, \n",
    "                L=L, \n",
    "                t_steps=time_steps, \n",
    "                d=d, \n",
    "                init_grass=init_grass, \n",
    "                init_tree=init_tree, \n",
    "                p_disp=p_disp, \n",
    "                p_prop=p_prop, \n",
    "                min_seed=min_seed, \n",
    "                r_grow=r_grow, \n",
    "                tree_carrying_capacity=tree_carrying_capacity,\n",
    "                neighborhood_carrying_capacity=neighborhood_carrying_capacity, \n",
    "                max_ignite=p,\n",
    "                rng=rng)\n",
    "\n",
    "        \n",
    "        ignition_probability[trial_counter] = p\n",
    "        #### BIOMASS\n",
    "        # calculate summary stats for that trial and record them\n",
    "        biomass = results_dict['biomass'][burnout_time:]\n",
    "        # mean (total biomass / L*L)\n",
    "        mean_biomass[trial_counter] = np.mean(biomass/(L*L))\n",
    "        # median (total biomass / L*L)\n",
    "        median_biomass[trial_counter] = np.median(biomass/(L*L))\n",
    "        # std (total biomass / L*L)\n",
    "        std_biomass[trial_counter] = np.std(biomass/(L*L))\n",
    "        # \n",
    "        max_biomass[trial_counter] = np.max(biomass/(L*L))\n",
    "        min_biomass[trial_counter] = np.min(biomass/(L*L))\n",
    "        \n",
    "        #### PATCH SIZE\n",
    "        num_patches = results_dict['num_patches'][burnout_time:]\n",
    "        avg_patch_size = results_dict['avg_patch_size'][burnout_time:]\n",
    "        med_patch_size = results_dict['med_patch_size'][burnout_time:]\n",
    "        \n",
    "        # Get indices that are not nan so stuff doesn't break\n",
    "        finite_idx = ~np.isnan(avg_patch_size)\n",
    "        # mean (num patches)\n",
    "        mean_patch_count[trial_counter] = np.nanmean(num_patches)\n",
    "        # mean of the means\n",
    "        mean_mean_patch_size[trial_counter] = np.nanmean(avg_patch_size)\n",
    "        # sd of means\n",
    "        std_mean_patch_size[trial_counter] = np.nanstd(avg_patch_size)\n",
    "        # slope and int of mean patch size vs num patches\n",
    "\n",
    "        # try to get slope, intercept\n",
    "        # return nan if doesn't work \n",
    "        try: \n",
    "            slope, intercept = np.polyfit(np.log(num_patches[finite_idx]), np.log(avg_patch_size[finite_idx]), 1)\n",
    "            ln_num_avg_patch_int[trial_counter] = intercept\n",
    "            ln_num_avg_patch_slope[trial_counter] = slope\n",
    "        except: \n",
    "            ln_num_avg_patch_int[trial_counter] = np.nan\n",
    "            ln_num_avg_patch_slope[trial_counter] = np.nan\n",
    "\n",
    "        trial_counter += 1"
   ]
  },
  {
   "cell_type": "code",
   "execution_count": 25,
   "metadata": {},
   "outputs": [],
   "source": [
    "df = pd.DataFrame({\n",
    "    \"ignition_probability\": ignition_probability, \n",
    "    \"mean_biomass\": mean_biomass, \n",
    "    \"median_biomass\": median_biomass, \n",
    "    \"max_biomass\": max_biomass, \n",
    "    \"min_biomass\": min_biomass, \n",
    "    \"std_biomass\": std_biomass, \n",
    "    \"mean_patch_count\": mean_patch_count, \n",
    "    \"mean_mean_patch_size\": mean_mean_patch_size, \n",
    "    \"std_mean_patch_size\": std_mean_patch_size, \n",
    "    \"ln_num_avg_patch_int\": ln_num_avg_patch_int, \n",
    "    \"ln_num_avg_patch_slope\": ln_num_avg_patch_slope\n",
    "})\n",
    "df.to_csv(\"outputs/ignition_probability.csv\")"
   ]
  },
  {
   "cell_type": "code",
   "execution_count": 26,
   "metadata": {},
   "outputs": [
    {
     "data": {
      "image/png": "[encoded data removed]",
      "text/plain": [
       "<Figure size 640x480 with 1 Axes>"
      ]
     },
     "metadata": {},
     "output_type": "display_data"
    },
    {
     "data": {
      "image/png": "[encoded data removed]",
      "text/plain": [
       "<Figure size 640x480 with 1 Axes>"
      ]
     },
     "metadata": {},
     "output_type": "display_data"
    }
   ],
   "source": [
    "# Biomass: min, max, and mean. \n",
    "plt.figure()\n",
    "plt.scatter(np.log(ignition_probability), min_biomass, color = \"blue\", label = \"min\")\n",
    "plt.scatter(np.log(ignition_probability), max_biomass, color = \"green\", label = \"max\")\n",
    "plt.scatter(np.log(ignition_probability), mean_biomass, color = \"orange\", label = \"mean\")\n",
    "plt.legend()\n",
    "plt.xlabel(\"ignition probability\")\n",
    "plt.ylabel(\"mean biomass\")\n",
    "plt.show()\n",
    "\n",
    "# Biomass: min, max, and mean. \n",
    "plt.figure()\n",
    "plt.scatter(ignition_probability, min_biomass, color = \"blue\", label = \"min\")\n",
    "plt.scatter(ignition_probability, max_biomass, color = \"green\", label = \"max\")\n",
    "plt.scatter(ignition_probability, mean_biomass, color = \"orange\", label = \"mean\")\n",
    "plt.legend()\n",
    "plt.xlabel(\"ignition probability\")\n",
    "plt.ylabel(\"mean biomass\")\n",
    "plt.show()"
   ]
  }
 ],
 "metadata": {
  "kernelspec": {
   "display_name": "base",
   "language": "python",
   "name": "python3"
  },
  "language_info": {
   "codemirror_mode": {
    "name": "ipython",
    "version": 3
   },
   "file_extension": ".py",
   "mimetype": "text/x-python",
   "name": "python",
   "nbconvert_exporter": "python",
   "pygments_lexer": "ipython3",
   "version": "3.9.13"
  },
  "orig_nbformat": 4,
  "vscode": {
   "interpreter": {
    "hash": "2f51a30a04df041680abb45233572118012320a8ffc7d125434bf1d85ca06873"
   }
  }
 },
 "nbformat": 4,
 "nbformat_minor": 2
}
